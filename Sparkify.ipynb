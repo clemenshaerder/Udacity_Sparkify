{
 "cells": [
  {
   "cell_type": "markdown",
   "metadata": {},
   "source": [
    "# Sparkify Project Workspace\n",
    "This workspace contains a tiny subset (128MB) of the full dataset available (12GB). Feel free to use this workspace to build your project, or to explore a smaller subset with Spark before deploying your cluster on the cloud. Instructions for setting up your Spark cluster is included in the last lesson of the Extracurricular Spark Course content.\n",
    "\n",
    "You can follow the steps below to guide your data analysis and model building portion of this project."
   ]
  },
  {
   "cell_type": "code",
   "execution_count": 87,
   "metadata": {},
   "outputs": [],
   "source": [
    "# import libraries\n",
    "from pyspark.sql import Window\n",
    "from pyspark.sql.window import Window\n",
    "from pyspark.sql.functions import avg, stddev, split, udf, isnull, first, col, format_number, rand\n",
    "from pyspark.sql.functions import min as fmin\n",
    "from pyspark.sql.functions import max as fmax\n",
    "from pyspark.sql.types import IntegerType, FloatType\n",
    "import pyspark.sql.functions as func\n",
    "from pyspark.sql.functions import lit\n",
    "from pyspark.ml.stat import Correlation\n",
    "\n",
    "# all pyspark stuff\n",
    "from pyspark.ml import pipeline\n",
    "from pyspark.ml.feature import CountVectorizer, VectorAssembler\n",
    "from pyspark.sql.types import IntegerType\n",
    "from pyspark.sql.functions import avg, explode, concat, lit, min, max, split, udf, isnull, col, desc\n",
    "from pyspark.sql import SparkSession, Window\n",
    "from pyspark.ml import Pipeline\n",
    "from pyspark.ml.classification import LogisticRegression, DecisionTreeClassifier,RandomForestClassifier, LinearSVC\n",
    "from pyspark.ml.evaluation import MulticlassClassificationEvaluator\n",
    "from pyspark.ml.tuning import CrossValidator, ParamGridBuilder\n",
    "\n",
    "import re\n",
    "import copy\n",
    "import time\n",
    "import datetime\n",
    "import numpy as np\n",
    "import pandas as pd\n",
    "import seaborn as sns\n",
    "import matplotlib.pyplot as plt\n",
    "from statsmodels.stats.proportion import proportions_ztest\n",
    "\n",
    "%matplotlib inline"
   ]
  },
  {
   "cell_type": "code",
   "execution_count": 88,
   "metadata": {},
   "outputs": [],
   "source": [
    "# create a Spark session\n",
    "spark = SparkSession.builder.appName('Sparkify_local').getOrCreate()"
   ]
  },
  {
   "cell_type": "markdown",
   "metadata": {},
   "source": [
    "# Load and Clean Dataset\n",
    "In this workspace, the mini-dataset file is `mini_sparkify_event_data.json`. Load and clean the dataset, checking for invalid or missing data - for example, records without userids or sessionids. "
   ]
  },
  {
   "cell_type": "code",
   "execution_count": 89,
   "metadata": {},
   "outputs": [
    {
     "name": "stdout",
     "output_type": "stream",
     "text": [
      "+--------------+---------+---------+------+-------------+--------+---------+-----+---------------+------+--------+-------------+---------+---------+------+-------------+--------------------+------+\n",
      "|        artist|     auth|firstName|gender|itemInSession|lastName|   length|level|       location|method|    page| registration|sessionId|     song|status|           ts|           userAgent|userId|\n",
      "+--------------+---------+---------+------+-------------+--------+---------+-----+---------------+------+--------+-------------+---------+---------+------+-------------+--------------------+------+\n",
      "|Martha Tilston|Logged In|    Colin|     M|           50| Freeman|277.89016| paid|Bakersfield, CA|   PUT|NextSong|1538173362000|       29|Rockpools|   200|1538352117000|Mozilla/5.0 (Wind...|    30|\n",
      "+--------------+---------+---------+------+-------------+--------+---------+-----+---------------+------+--------+-------------+---------+---------+------+-------------+--------------------+------+\n",
      "only showing top 1 row\n",
      "\n"
     ]
    }
   ],
   "source": [
    "spark_json = spark.read.json('mini_sparkify_event_data.json')\n",
    "spark_json.show(1)"
   ]
  },
  {
   "cell_type": "code",
   "execution_count": 90,
   "metadata": {},
   "outputs": [
    {
     "name": "stdout",
     "output_type": "stream",
     "text": [
      "root\n",
      " |-- artist: string (nullable = true)\n",
      " |-- auth: string (nullable = true)\n",
      " |-- firstName: string (nullable = true)\n",
      " |-- gender: string (nullable = true)\n",
      " |-- itemInSession: long (nullable = true)\n",
      " |-- lastName: string (nullable = true)\n",
      " |-- length: double (nullable = true)\n",
      " |-- level: string (nullable = true)\n",
      " |-- location: string (nullable = true)\n",
      " |-- method: string (nullable = true)\n",
      " |-- page: string (nullable = true)\n",
      " |-- registration: long (nullable = true)\n",
      " |-- sessionId: long (nullable = true)\n",
      " |-- song: string (nullable = true)\n",
      " |-- status: long (nullable = true)\n",
      " |-- ts: long (nullable = true)\n",
      " |-- userAgent: string (nullable = true)\n",
      " |-- userId: string (nullable = true)\n",
      "\n"
     ]
    }
   ],
   "source": [
    "spark_json.printSchema()"
   ]
  },
  {
   "cell_type": "code",
   "execution_count": 91,
   "metadata": {},
   "outputs": [
    {
     "name": "stdout",
     "output_type": "stream",
     "text": [
      "+-------+------+\n",
      "|summary|gender|\n",
      "+-------+------+\n",
      "|  count|278154|\n",
      "|   mean|  null|\n",
      "| stddev|  null|\n",
      "|    min|     F|\n",
      "|    max|     M|\n",
      "+-------+------+\n",
      "\n"
     ]
    }
   ],
   "source": [
    "# spark_json.describe('artist').show()\n",
    "# spark_json.describe('auth').show()\n",
    "# spark_json.describe('firstName').show()\n",
    "spark_json.describe('gender').show()"
   ]
  },
  {
   "cell_type": "code",
   "execution_count": 92,
   "metadata": {},
   "outputs": [
    {
     "name": "stdout",
     "output_type": "stream",
     "text": [
      "total of 286500 json entries\n",
      "total 18 columns\n"
     ]
    }
   ],
   "source": [
    "# total of 286500 json entries\n",
    "spark_json.count()\n",
    "print('total of 286500 json entries')\n",
    "len(spark_json.columns)\n",
    "print('total 18 columns')"
   ]
  },
  {
   "cell_type": "code",
   "execution_count": 93,
   "metadata": {},
   "outputs": [
    {
     "data": {
      "text/plain": [
       "0"
      ]
     },
     "execution_count": 93,
     "metadata": {},
     "output_type": "execute_result"
    }
   ],
   "source": [
    "# start cleaning \n",
    "spark_json.filter(isnull(spark_json['userId'])).count()\n",
    "# no null values in userid"
   ]
  },
  {
   "cell_type": "code",
   "execution_count": 94,
   "metadata": {},
   "outputs": [
    {
     "data": {
      "text/plain": [
       "0"
      ]
     },
     "execution_count": 94,
     "metadata": {},
     "output_type": "execute_result"
    }
   ],
   "source": [
    "spark_json.filter(isnull(spark_json['sessionId'])).count()\n",
    "# no null values in sessionID"
   ]
  },
  {
   "cell_type": "code",
   "execution_count": 95,
   "metadata": {},
   "outputs": [
    {
     "data": {
      "text/plain": [
       "8346"
      ]
     },
     "execution_count": 95,
     "metadata": {},
     "output_type": "execute_result"
    }
   ],
   "source": [
    "spark_json.filter(spark_json['userId'] == '').count()\n",
    "# multiple empty userIDs "
   ]
  },
  {
   "cell_type": "code",
   "execution_count": 96,
   "metadata": {},
   "outputs": [],
   "source": [
    "# dropping empty userIds\n",
    "spark_json = spark_json[spark_json.userId != \"\"]"
   ]
  },
  {
   "cell_type": "code",
   "execution_count": 97,
   "metadata": {},
   "outputs": [
    {
     "data": {
      "text/plain": [
       "0"
      ]
     },
     "execution_count": 97,
     "metadata": {},
     "output_type": "execute_result"
    }
   ],
   "source": [
    "spark_json.filter(spark_json['sessionId']=='').count()"
   ]
  },
  {
   "cell_type": "code",
   "execution_count": 98,
   "metadata": {},
   "outputs": [],
   "source": [
    "spark_json = spark_json.dropna(how = 'any', subset = ['userId', 'sessionId'])"
   ]
  },
  {
   "cell_type": "code",
   "execution_count": 99,
   "metadata": {},
   "outputs": [
    {
     "data": {
      "text/plain": [
       "225"
      ]
     },
     "execution_count": 99,
     "metadata": {},
     "output_type": "execute_result"
    }
   ],
   "source": [
    "spark_json.dropDuplicates(subset = ['userId']).count()"
   ]
  },
  {
   "cell_type": "code",
   "execution_count": 100,
   "metadata": {},
   "outputs": [
    {
     "name": "stdout",
     "output_type": "stream",
     "text": [
      "278154 rows left after cleaning\n"
     ]
    }
   ],
   "source": [
    "spark_json.count()\n",
    "print('278154 rows left after cleaning')"
   ]
  },
  {
   "cell_type": "markdown",
   "metadata": {},
   "source": [
    "# Exploratory Data Analysis\n",
    "When you're working with the full dataset, perform EDA by loading a small subset of the data and doing basic manipulations within Spark. In this workspace, you are already provided a small subset of data you can explore.\n",
    "\n",
    "### Define Churn\n",
    "\n",
    "Once you've done some preliminary analysis, create a column `Churn` to use as the label for your model. I suggest using the `Cancellation Confirmation` events to define your churn, which happen for both paid and free users. As a bonus task, you can also look into the `Downgrade` events.\n",
    "\n",
    "### Explore Data\n",
    "Once you've defined churn, perform some exploratory data analysis to observe the behavior for users who stayed vs users who churned. You can start by exploring aggregates on these two groups of users, observing how much of a specific action they experienced per a certain time unit or number of songs played."
   ]
  },
  {
   "cell_type": "code",
   "execution_count": 101,
   "metadata": {},
   "outputs": [
    {
     "data": {
      "text/html": [
       "<div>\n",
       "<style scoped>\n",
       "    .dataframe tbody tr th:only-of-type {\n",
       "        vertical-align: middle;\n",
       "    }\n",
       "\n",
       "    .dataframe tbody tr th {\n",
       "        vertical-align: top;\n",
       "    }\n",
       "\n",
       "    .dataframe thead th {\n",
       "        text-align: right;\n",
       "    }\n",
       "</style>\n",
       "<table border=\"1\" class=\"dataframe\">\n",
       "  <thead>\n",
       "    <tr style=\"text-align: right;\">\n",
       "      <th></th>\n",
       "      <th>artist</th>\n",
       "      <th>auth</th>\n",
       "      <th>firstName</th>\n",
       "      <th>gender</th>\n",
       "      <th>itemInSession</th>\n",
       "      <th>lastName</th>\n",
       "      <th>length</th>\n",
       "      <th>level</th>\n",
       "      <th>location</th>\n",
       "      <th>method</th>\n",
       "      <th>page</th>\n",
       "      <th>registration</th>\n",
       "      <th>sessionId</th>\n",
       "      <th>song</th>\n",
       "      <th>status</th>\n",
       "      <th>ts</th>\n",
       "      <th>userAgent</th>\n",
       "      <th>userId</th>\n",
       "    </tr>\n",
       "  </thead>\n",
       "  <tbody>\n",
       "    <tr>\n",
       "      <th>0</th>\n",
       "      <td>Martha Tilston</td>\n",
       "      <td>Logged In</td>\n",
       "      <td>Colin</td>\n",
       "      <td>M</td>\n",
       "      <td>50</td>\n",
       "      <td>Freeman</td>\n",
       "      <td>277.89016</td>\n",
       "      <td>paid</td>\n",
       "      <td>Bakersfield, CA</td>\n",
       "      <td>PUT</td>\n",
       "      <td>NextSong</td>\n",
       "      <td>1538173362000</td>\n",
       "      <td>29</td>\n",
       "      <td>Rockpools</td>\n",
       "      <td>200</td>\n",
       "      <td>1538352117000</td>\n",
       "      <td>Mozilla/5.0 (Windows NT 6.1; WOW64; rv:31.0) G...</td>\n",
       "      <td>30</td>\n",
       "    </tr>\n",
       "    <tr>\n",
       "      <th>1</th>\n",
       "      <td>Five Iron Frenzy</td>\n",
       "      <td>Logged In</td>\n",
       "      <td>Micah</td>\n",
       "      <td>M</td>\n",
       "      <td>79</td>\n",
       "      <td>Long</td>\n",
       "      <td>236.09424</td>\n",
       "      <td>free</td>\n",
       "      <td>Boston-Cambridge-Newton, MA-NH</td>\n",
       "      <td>PUT</td>\n",
       "      <td>NextSong</td>\n",
       "      <td>1538331630000</td>\n",
       "      <td>8</td>\n",
       "      <td>Canada</td>\n",
       "      <td>200</td>\n",
       "      <td>1538352180000</td>\n",
       "      <td>\"Mozilla/5.0 (Windows NT 6.1; WOW64) AppleWebK...</td>\n",
       "      <td>9</td>\n",
       "    </tr>\n",
       "    <tr>\n",
       "      <th>2</th>\n",
       "      <td>Adam Lambert</td>\n",
       "      <td>Logged In</td>\n",
       "      <td>Colin</td>\n",
       "      <td>M</td>\n",
       "      <td>51</td>\n",
       "      <td>Freeman</td>\n",
       "      <td>282.82730</td>\n",
       "      <td>paid</td>\n",
       "      <td>Bakersfield, CA</td>\n",
       "      <td>PUT</td>\n",
       "      <td>NextSong</td>\n",
       "      <td>1538173362000</td>\n",
       "      <td>29</td>\n",
       "      <td>Time For Miracles</td>\n",
       "      <td>200</td>\n",
       "      <td>1538352394000</td>\n",
       "      <td>Mozilla/5.0 (Windows NT 6.1; WOW64; rv:31.0) G...</td>\n",
       "      <td>30</td>\n",
       "    </tr>\n",
       "    <tr>\n",
       "      <th>3</th>\n",
       "      <td>Enigma</td>\n",
       "      <td>Logged In</td>\n",
       "      <td>Micah</td>\n",
       "      <td>M</td>\n",
       "      <td>80</td>\n",
       "      <td>Long</td>\n",
       "      <td>262.71302</td>\n",
       "      <td>free</td>\n",
       "      <td>Boston-Cambridge-Newton, MA-NH</td>\n",
       "      <td>PUT</td>\n",
       "      <td>NextSong</td>\n",
       "      <td>1538331630000</td>\n",
       "      <td>8</td>\n",
       "      <td>Knocking On Forbidden Doors</td>\n",
       "      <td>200</td>\n",
       "      <td>1538352416000</td>\n",
       "      <td>\"Mozilla/5.0 (Windows NT 6.1; WOW64) AppleWebK...</td>\n",
       "      <td>9</td>\n",
       "    </tr>\n",
       "    <tr>\n",
       "      <th>4</th>\n",
       "      <td>Daft Punk</td>\n",
       "      <td>Logged In</td>\n",
       "      <td>Colin</td>\n",
       "      <td>M</td>\n",
       "      <td>52</td>\n",
       "      <td>Freeman</td>\n",
       "      <td>223.60771</td>\n",
       "      <td>paid</td>\n",
       "      <td>Bakersfield, CA</td>\n",
       "      <td>PUT</td>\n",
       "      <td>NextSong</td>\n",
       "      <td>1538173362000</td>\n",
       "      <td>29</td>\n",
       "      <td>Harder Better Faster Stronger</td>\n",
       "      <td>200</td>\n",
       "      <td>1538352676000</td>\n",
       "      <td>Mozilla/5.0 (Windows NT 6.1; WOW64; rv:31.0) G...</td>\n",
       "      <td>30</td>\n",
       "    </tr>\n",
       "  </tbody>\n",
       "</table>\n",
       "</div>"
      ],
      "text/plain": [
       "             artist       auth firstName gender  itemInSession lastName  \\\n",
       "0    Martha Tilston  Logged In     Colin      M             50  Freeman   \n",
       "1  Five Iron Frenzy  Logged In     Micah      M             79     Long   \n",
       "2      Adam Lambert  Logged In     Colin      M             51  Freeman   \n",
       "3            Enigma  Logged In     Micah      M             80     Long   \n",
       "4         Daft Punk  Logged In     Colin      M             52  Freeman   \n",
       "\n",
       "      length level                        location method      page  \\\n",
       "0  277.89016  paid                 Bakersfield, CA    PUT  NextSong   \n",
       "1  236.09424  free  Boston-Cambridge-Newton, MA-NH    PUT  NextSong   \n",
       "2  282.82730  paid                 Bakersfield, CA    PUT  NextSong   \n",
       "3  262.71302  free  Boston-Cambridge-Newton, MA-NH    PUT  NextSong   \n",
       "4  223.60771  paid                 Bakersfield, CA    PUT  NextSong   \n",
       "\n",
       "    registration  sessionId                           song  status  \\\n",
       "0  1538173362000         29                      Rockpools     200   \n",
       "1  1538331630000          8                         Canada     200   \n",
       "2  1538173362000         29              Time For Miracles     200   \n",
       "3  1538331630000          8    Knocking On Forbidden Doors     200   \n",
       "4  1538173362000         29  Harder Better Faster Stronger     200   \n",
       "\n",
       "              ts                                          userAgent userId  \n",
       "0  1538352117000  Mozilla/5.0 (Windows NT 6.1; WOW64; rv:31.0) G...     30  \n",
       "1  1538352180000  \"Mozilla/5.0 (Windows NT 6.1; WOW64) AppleWebK...      9  \n",
       "2  1538352394000  Mozilla/5.0 (Windows NT 6.1; WOW64; rv:31.0) G...     30  \n",
       "3  1538352416000  \"Mozilla/5.0 (Windows NT 6.1; WOW64) AppleWebK...      9  \n",
       "4  1538352676000  Mozilla/5.0 (Windows NT 6.1; WOW64; rv:31.0) G...     30  "
      ]
     },
     "execution_count": 101,
     "metadata": {},
     "output_type": "execute_result"
    }
   ],
   "source": [
    "# converting the json file to a panda df to use head fct.\n",
    "df = spark_json.toPandas()\n",
    "df.head()"
   ]
  },
  {
   "cell_type": "code",
   "execution_count": 102,
   "metadata": {},
   "outputs": [],
   "source": [
    "# registration and ts (time stamp?) are in a weird format -> make this datetime.\n",
    "# udf = user defined funtion using a lambda function. / 1000 to get rid of the unrequired 000 at the end.\n",
    "new_ts = udf(lambda x: datetime.datetime.fromtimestamp(x / 1000.0).strftime(\"%m-%d-%Y %H:%M:%S\"))\n",
    "spark_json = spark_json.withColumn('updated_registration', new_ts('registration'))\n",
    "spark_json = spark_json.withColumn('updated_ts', new_ts('ts'))"
   ]
  },
  {
   "cell_type": "code",
   "execution_count": 103,
   "metadata": {},
   "outputs": [
    {
     "data": {
      "text/plain": [
       "NextSong                     228108\n",
       "Thumbs Up                     12551\n",
       "Home                          10082\n",
       "Add to Playlist                6526\n",
       "Add Friend                     4277\n",
       "Roll Advert                    3933\n",
       "Logout                         3226\n",
       "Thumbs Down                    2546\n",
       "Downgrade                      2055\n",
       "Settings                       1514\n",
       "Help                           1454\n",
       "Upgrade                         499\n",
       "About                           495\n",
       "Save Settings                   310\n",
       "Error                           252\n",
       "Submit Upgrade                  159\n",
       "Submit Downgrade                 63\n",
       "Cancellation Confirmation        52\n",
       "Cancel                           52\n",
       "Name: page, dtype: int64"
      ]
     },
     "execution_count": 103,
     "metadata": {},
     "output_type": "execute_result"
    }
   ],
   "source": [
    "df.page.value_counts()"
   ]
  },
  {
   "cell_type": "code",
   "execution_count": 104,
   "metadata": {},
   "outputs": [],
   "source": [
    "# define a variable that identifies who submitted a downgrade\n",
    "downgrade_value  = udf(lambda x: 1 if x == \"Submit Downgrade\" else 0, IntegerType())\n",
    "spark_json = spark_json.withColumn(\"downgrade_value\", downgrade_value(\"page\"))"
   ]
  },
  {
   "cell_type": "code",
   "execution_count": 105,
   "metadata": {},
   "outputs": [
    {
     "data": {
      "text/plain": [
       "<pyspark.sql.window.WindowSpec at 0x7fb225b86ac8>"
      ]
     },
     "execution_count": 105,
     "metadata": {},
     "output_type": "execute_result"
    }
   ],
   "source": [
    "Window.partitionBy('UserId')"
   ]
  },
  {
   "cell_type": "code",
   "execution_count": 106,
   "metadata": {},
   "outputs": [],
   "source": [
    "#Then identify who (userid) downgraded\n",
    "window_down_user = Window.partitionBy('UserId')\n",
    "spark_json = spark_json.withColumn(\"user_downgrade\", max('downgrade_value').over(window_down_user))"
   ]
  },
  {
   "cell_type": "code",
   "execution_count": 107,
   "metadata": {},
   "outputs": [
    {
     "data": {
      "text/plain": [
       "<pyspark.sql.window.WindowSpec at 0x7fb225b75400>"
      ]
     },
     "execution_count": 107,
     "metadata": {},
     "output_type": "execute_result"
    }
   ],
   "source": [
    "Window.partitionBy('UserId')"
   ]
  },
  {
   "cell_type": "code",
   "execution_count": 108,
   "metadata": {},
   "outputs": [],
   "source": [
    "# identify the churns\n",
    "churn_identifier = udf(lambda x: 1 if x == 'Cancellation Confirmation' else 0, IntegerType())\n",
    "spark_json = spark_json.withColumn(\"churn_identifier\", churn_identifier(\"page\"))"
   ]
  },
  {
   "cell_type": "code",
   "execution_count": 109,
   "metadata": {},
   "outputs": [],
   "source": [
    "# final step: find the users that churned\n",
    "window_churn = Window.partitionBy('UserId')\n",
    "spark_json = spark_json.withColumn(\"user_churn\", max('churn_identifier').over(window_churn))"
   ]
  },
  {
   "cell_type": "code",
   "execution_count": 110,
   "metadata": {},
   "outputs": [
    {
     "name": "stdout",
     "output_type": "stream",
     "text": [
      "+------+---------+-----+-------------------+----------+--------------+\n",
      "|userId|firstName|level|         updated_ts|user_churn|user_downgrade|\n",
      "+------+---------+-----+-------------------+----------+--------------+\n",
      "|100010| Darianna| free|10-08-2018 12:58:54|         0|             0|\n",
      "|200002|  Dominic| free|10-01-2018 11:30:30|         0|             0|\n",
      "|   125|    Mason| free|10-12-2018 04:05:44|         1|             0|\n",
      "|   124|   Nicole| paid|10-01-2018 15:17:10|         0|             0|\n",
      "|    51|    Ethan| paid|10-01-2018 12:57:12|         1|             0|\n",
      "|     7|   Maddox| free|10-03-2018 11:57:49|         0|             0|\n",
      "|    15|    Panav| paid|10-01-2018 10:23:35|         0|             0|\n",
      "|    54|    Alexi| paid|10-01-2018 00:32:10|         1|             1|\n",
      "|   155|   Camila| free|11-02-2018 15:56:25|         0|             0|\n",
      "|100014|  Rodrigo| paid|10-10-2018 13:12:16|         1|             0|\n",
      "|   132|    Sadie| free|10-02-2018 08:59:56|         0|             0|\n",
      "|   154|   Morgan| free|11-02-2018 15:15:35|         0|             0|\n",
      "|   101|     Alex| free|10-01-2018 01:50:05|         1|             0|\n",
      "|    11|      Zoe| free|10-05-2018 03:20:29|         0|             1|\n",
      "|   138|   Samuel| free|10-05-2018 22:08:54|         0|             0|\n",
      "|300017|  Alyssia| paid|10-01-2018 13:14:06|         0|             0|\n",
      "|100021|   Rayden| free|10-11-2018 00:04:35|         1|             0|\n",
      "|    29|    Kaleb| free|10-01-2018 23:55:03|         1|             0|\n",
      "|    69|     Jada| free|10-03-2018 18:06:39|         0|             0|\n",
      "|   112|    Logan| free|10-04-2018 17:45:33|         0|             0|\n",
      "+------+---------+-----+-------------------+----------+--------------+\n",
      "only showing top 20 rows\n",
      "\n"
     ]
    }
   ],
   "source": [
    "# selecting few users to see\n",
    "spark_json['userId', 'firstName', 'level','updated_ts','user_churn', 'user_downgrade'].dropDuplicates(subset = ['userId']).show(20)"
   ]
  },
  {
   "cell_type": "code",
   "execution_count": 111,
   "metadata": {},
   "outputs": [
    {
     "name": "stdout",
     "output_type": "stream",
     "text": [
      "+----------+------+-----+\n",
      "|user_churn|gender|count|\n",
      "+----------+------+-----+\n",
      "|         0|     M|   89|\n",
      "|         0|     F|   84|\n",
      "|         1|     F|   20|\n",
      "|         1|     M|   32|\n",
      "+----------+------+-----+\n",
      "\n"
     ]
    }
   ],
   "source": [
    "spark_json.drop_duplicates(['userId', 'gender']).groupby(['user_churn', 'gender']).count().sort(\"user_churn\").show()"
   ]
  },
  {
   "cell_type": "markdown",
   "metadata": {},
   "source": [
    "Given the small sample, gender appears to have an impact on the churn rate, where femals tend to churn less."
   ]
  },
  {
   "cell_type": "code",
   "execution_count": 112,
   "metadata": {},
   "outputs": [
    {
     "name": "stdout",
     "output_type": "stream",
     "text": [
      "+----------+-----+-----+\n",
      "|user_churn|level|count|\n",
      "+----------+-----+-----+\n",
      "|         0| free|  149|\n",
      "|         0| paid|  129|\n",
      "|         1| paid|   36|\n",
      "|         1| free|   46|\n",
      "+----------+-----+-----+\n",
      "\n"
     ]
    }
   ],
   "source": [
    "spark_json.drop_duplicates(['userId', 'level']).groupby(['user_churn', 'level']).count().sort(\"user_churn\").show()"
   ]
  },
  {
   "cell_type": "markdown",
   "metadata": {},
   "source": [
    "Overall, free and paid users churn on an almost equal rate (between 21 - 23%)"
   ]
  },
  {
   "cell_type": "code",
   "execution_count": 113,
   "metadata": {},
   "outputs": [
    {
     "name": "stdout",
     "output_type": "stream",
     "text": [
      "+----------+------+-----+\n",
      "|user_churn|status|count|\n",
      "+----------+------+-----+\n",
      "|         0|   404|   95|\n",
      "|         0|   200|  173|\n",
      "|         0|   307|  171|\n",
      "|         1|   200|   52|\n",
      "|         1|   404|   22|\n",
      "|         1|   307|   52|\n",
      "+----------+------+-----+\n",
      "\n"
     ]
    }
   ],
   "source": [
    "spark_json.drop_duplicates(['userId', 'status']).groupby(['user_churn', 'status']).count().sort(\"user_churn\").show()\n",
    "# not sure what the status stands for, but again, the overall rate is identical"
   ]
  },
  {
   "cell_type": "code",
   "execution_count": 114,
   "metadata": {},
   "outputs": [],
   "source": [
    "total_songs_df = spark_json.where('page == \"NextSong\"').groupby(['user_churn', 'userId', 'sessionId', 'gender']).count()\\\n",
    "    .groupby(['user_churn', 'userId', 'gender']).agg({'count': 'avg'})\\\n",
    "    .withColumnRenamed('avg(count)', 'avg_played_songs').toPandas()"
   ]
  },
  {
   "cell_type": "code",
   "execution_count": 115,
   "metadata": {},
   "outputs": [
    {
     "data": {
      "text/plain": [
       "<matplotlib.axes._subplots.AxesSubplot at 0x7fb211f36908>"
      ]
     },
     "execution_count": 115,
     "metadata": {},
     "output_type": "execute_result"
    },
    {
     "data": {
      "image/png": "[encoded data removed]",
      "text/plain": [
       "<matplotlib.figure.Figure at 0x7fb257c68c50>"
      ]
     },
     "metadata": {
      "needs_background": "light"
     },
     "output_type": "display_data"
    }
   ],
   "source": [
    "sns.boxplot(x='user_churn',y='avg_played_songs',data=total_songs_df,hue='gender')"
   ]
  },
  {
   "cell_type": "markdown",
   "metadata": {},
   "source": [
    "The median of female users tends to be equal from femal churning or not. Yet, the churning once have a rahter left skewed distribution, hence, female churners tend to listen less on average.\n",
    "Men on the other hand do listen more in the median, yet, the upper, lower quantile do match. Likely, men not churning also listen slightly more average songs."
   ]
  },
  {
   "cell_type": "markdown",
   "metadata": {},
   "source": [
    "# Feature Engineering\n",
    "Once you've familiarized yourself with the data, build out the features you find promising to train your model on. To work with the full dataset, you can follow the following steps.\n",
    "- Write a script to extract the necessary features from the smaller subset of data\n",
    "- Ensure that your script is scalable, using the best practices discussed in Lesson 3\n",
    "- Try your script on the full data set, debugging your script if necessary\n",
    "\n",
    "If you are working in the classroom workspace, you can just extract features based on the small subset of data contained here. Be sure to transfer over this work to the larger dataset when you work on your Spark cluster."
   ]
  },
  {
   "cell_type": "markdown",
   "metadata": {},
   "source": [
    "The general goal is to find variables that make sense in describing if someone will churn or not. Also, we would like those variables to be uncorrelated if possible."
   ]
  },
  {
   "cell_type": "markdown",
   "metadata": {},
   "source": [
    "Certainly, it makes sense to use the amount of songs totally played. But naturally, if someone has been part of Sparkly for a long time, he will have higher numbers then someone that just joined. Hence, we will take the rate of the #songs/time. In this way, we can better reflect the true situation"
   ]
  },
  {
   "cell_type": "code",
   "execution_count": 116,
   "metadata": {},
   "outputs": [
    {
     "data": {
      "text/plain": [
       "[Row(userId='100010', ratio_songs_time=6.847141574652864),\n",
       " Row(userId='200002', ratio_songs_time=6.764216985594723),\n",
       " Row(userId='125', ratio_songs_time=0.15424116963623655),\n",
       " Row(userId='124', ratio_songs_time=36.676420241322894),\n",
       " Row(userId='51', ratio_songs_time=126.64574639273998),\n",
       " Row(userId='7', ratio_songs_time=2.7618166883613084),\n",
       " Row(userId='15', ratio_songs_time=40.30889824286323),\n",
       " Row(userId='54', ratio_songs_time=31.033386540168586),\n",
       " Row(userId='155', ratio_songs_time=42.53689982508206),\n",
       " Row(userId='100014', ratio_songs_time=3.6434838038819755)]"
      ]
     },
     "execution_count": 116,
     "metadata": {},
     "output_type": "execute_result"
    }
   ],
   "source": [
    "count_tot_songs = spark_json.select('userId', 'song').groupBy('userId').count().withColumnRenamed('count', 'tot_songs')\n",
    "\n",
    "time_at_sparkly = spark_json.select('userId', 'registration', 'ts').withColumn('tot_lifetime', (spark_json.ts - spark_json.registration))\\\n",
    "    .groupBy('userId').agg({'tot_lifetime' : 'max'})\\\n",
    "    .withColumnRenamed('max(tot_lifetime)', 'tot_lifetime')\\\n",
    "    .select('userId', (col('tot_lifetime')/1000/3600/24).alias('tot_lifetime'))\n",
    "\n",
    "var_1 = time_at_sparkly.join(count_tot_songs, \"userId\")\n",
    "var_1 = var_1.withColumn(\"ratio_songs_time\", col(\"tot_songs\") / col(\"tot_lifetime\")) \n",
    "\n",
    "var_1 = var_1.drop(\"tot_songs\", \"tot_lifetime\")\n",
    "var_1.head(10)"
   ]
  },
  {
   "cell_type": "markdown",
   "metadata": {},
   "source": [
    "now lets have a rate of thumbs up and then thumbs down vs the total amount of songs heard"
   ]
  },
  {
   "cell_type": "code",
   "execution_count": 117,
   "metadata": {},
   "outputs": [
    {
     "data": {
      "text/plain": [
       "[Row(userId='100010', ratio_thumps_up=0.04461942257217848),\n",
       " Row(userId='200002', ratio_thumps_up=0.04430379746835443),\n",
       " Row(userId='124', ratio_thumps_up=0.03544041450777202),\n",
       " Row(userId='51', ratio_thumps_up=0.040584415584415584),\n",
       " Row(userId='7', ratio_thumps_up=0.03482587064676617),\n",
       " Row(userId='15', ratio_thumps_up=0.03555750658472344),\n",
       " Row(userId='54', ratio_thumps_up=0.04742508001163805),\n",
       " Row(userId='155', ratio_thumps_up=0.05788423153692615),\n",
       " Row(userId='100014', ratio_thumps_up=0.054838709677419356),\n",
       " Row(userId='132', ratio_thumps_up=0.041666666666666664)]"
      ]
     },
     "execution_count": 117,
     "metadata": {},
     "output_type": "execute_result"
    }
   ],
   "source": [
    "thumbs_up = spark_json.select('userId', 'page').where(spark_json.page == 'Thumbs Up').groupBy('userId').count().withColumnRenamed('count', 'tot_thumbs_up')\n",
    "\n",
    "var_2 = thumbs_up.join(count_tot_songs, \"userId\")\n",
    "var_2 = var_2.withColumn(\"ratio_thumps_up\", col(\"tot_thumbs_up\") / col(\"tot_songs\")) \n",
    "\n",
    "var_2 = var_2.drop(\"tot_thumbs_up\", \"tot_songs\")\n",
    "var_2.head(10)"
   ]
  },
  {
   "cell_type": "code",
   "execution_count": 118,
   "metadata": {},
   "outputs": [
    {
     "data": {
      "text/plain": [
       "[Row(userId='100010', ratio_thumps_down=0.013123359580052493),\n",
       " Row(userId='200002', ratio_thumps_down=0.012658227848101266),\n",
       " Row(userId='124', ratio_thumps_down=0.00849740932642487),\n",
       " Row(userId='51', ratio_thumps_down=0.008522727272727272),\n",
       " Row(userId='7', ratio_thumps_down=0.004975124378109453),\n",
       " Row(userId='15', ratio_thumps_down=0.006145741878841089),\n",
       " Row(userId='54', ratio_thumps_down=0.008437590922315974),\n",
       " Row(userId='155', ratio_thumps_down=0.0029940119760479044),\n",
       " Row(userId='100014', ratio_thumps_down=0.00967741935483871),\n",
       " Row(userId='132', ratio_thumps_down=0.007378472222222222)]"
      ]
     },
     "execution_count": 118,
     "metadata": {},
     "output_type": "execute_result"
    }
   ],
   "source": [
    "thumbs_down = spark_json.select('userId', 'page').where(spark_json.page == 'Thumbs Down').groupBy('userId').count().withColumnRenamed('count', 'tot_thumbs_down')\n",
    "\n",
    "var_3 = thumbs_down.join(count_tot_songs, \"userId\")\n",
    "var_3 = var_3.withColumn(\"ratio_thumps_down\", col(\"tot_thumbs_down\") / col(\"tot_songs\")) \n",
    "\n",
    "var_3 = var_3.drop(\"tot_thumbs_down\", \"tot_songs\")\n",
    "var_3.head(10)"
   ]
  },
  {
   "cell_type": "markdown",
   "metadata": {},
   "source": [
    "Lets also have a look how many songs are on avg listend to per session."
   ]
  },
  {
   "cell_type": "code",
   "execution_count": 119,
   "metadata": {},
   "outputs": [
    {
     "data": {
      "text/plain": [
       "[Row(userId='100010', avg_played_songs=39.285714285714285),\n",
       " Row(userId='200002', avg_played_songs=64.5),\n",
       " Row(userId='125', avg_played_songs=8.0),\n",
       " Row(userId='51', avg_played_songs=211.1),\n",
       " Row(userId='124', avg_played_songs=145.67857142857142),\n",
       " Row(userId='7', avg_played_songs=21.428571428571427),\n",
       " Row(userId='54', avg_played_songs=81.17142857142858),\n",
       " Row(userId='15', avg_played_songs=136.71428571428572),\n",
       " Row(userId='155', avg_played_songs=136.66666666666666),\n",
       " Row(userId='100014', avg_played_songs=42.833333333333336)]"
      ]
     },
     "execution_count": 119,
     "metadata": {},
     "output_type": "execute_result"
    }
   ],
   "source": [
    "var_4  = spark_json.where('page == \"NextSong\"').groupby(['userId', 'sessionId']).count().groupby('userId')\\\n",
    "          .agg({'count' : 'avg'}).withColumnRenamed('avg(count)', 'avg_played_songs')\n",
    "\n",
    "var_4.head(10)"
   ]
  },
  {
   "cell_type": "markdown",
   "metadata": {},
   "source": [
    "Certainly, having friends in the same network is important too. Hence, lets just add this information as we have it! "
   ]
  },
  {
   "cell_type": "code",
   "execution_count": 120,
   "metadata": {},
   "outputs": [
    {
     "data": {
      "text/plain": [
       "[Row(userId='100010', tot_friends=4),\n",
       " Row(userId='200002', tot_friends=4),\n",
       " Row(userId='51', tot_friends=28),\n",
       " Row(userId='124', tot_friends=74),\n",
       " Row(userId='7', tot_friends=1),\n",
       " Row(userId='54', tot_friends=33),\n",
       " Row(userId='15', tot_friends=31),\n",
       " Row(userId='155', tot_friends=11),\n",
       " Row(userId='132', tot_friends=41),\n",
       " Row(userId='154', tot_friends=3)]"
      ]
     },
     "execution_count": 120,
     "metadata": {},
     "output_type": "execute_result"
    }
   ],
   "source": [
    "var_5 = spark_json.select('userId', 'page').where(spark_json.page == 'Add Friend').groupBy('userId').count().withColumnRenamed('count', 'tot_friends')\n",
    "var_5.head(10)"
   ]
  },
  {
   "cell_type": "markdown",
   "metadata": {},
   "source": [
    "Lets now add the total listen time."
   ]
  },
  {
   "cell_type": "code",
   "execution_count": 121,
   "metadata": {},
   "outputs": [
    {
     "data": {
      "text/plain": [
       "[Row(userId='100010', tot_listen_time=66940.89735000003),\n",
       " Row(userId='200002', tot_listen_time=94008.87593999993),\n",
       " Row(userId='125', tot_listen_time=2089.1131000000005),\n",
       " Row(userId='51', tot_listen_time=523275.8428000004),\n",
       " Row(userId='124', tot_listen_time=1012312.0927899999),\n",
       " Row(userId='7', tot_listen_time=38034.08710000002),\n",
       " Row(userId='54', tot_listen_time=711344.9195400011),\n",
       " Row(userId='15', tot_listen_time=477307.60581000015),\n",
       " Row(userId='155', tot_listen_time=198779.2919),\n",
       " Row(userId='132', tot_listen_time=483118.9038399997)]"
      ]
     },
     "execution_count": 121,
     "metadata": {},
     "output_type": "execute_result"
    }
   ],
   "source": [
    "var_6 = spark_json.select(\"userId\", 'length').groupBy('userId').sum().withColumnRenamed('sum(length)', 'tot_listen_time')\n",
    "var_6.head(10)"
   ]
  },
  {
   "cell_type": "markdown",
   "metadata": {},
   "source": [
    "As we have seen, there might be a light effect of the gender. so we should include this. We codeFemale as 0 and Male as 1"
   ]
  },
  {
   "cell_type": "code",
   "execution_count": 122,
   "metadata": {},
   "outputs": [
    {
     "data": {
      "text/plain": [
       "[Row(userId='44', gender=0),\n",
       " Row(userId='46', gender=0),\n",
       " Row(userId='41', gender=0),\n",
       " Row(userId='72', gender=0),\n",
       " Row(userId='300023', gender=0),\n",
       " Row(userId='39', gender=0),\n",
       " Row(userId='100010', gender=0),\n",
       " Row(userId='40', gender=0),\n",
       " Row(userId='94', gender=0),\n",
       " Row(userId='35', gender=0)]"
      ]
     },
     "execution_count": 122,
     "metadata": {},
     "output_type": "execute_result"
    }
   ],
   "source": [
    "var_7 = spark_json.select('userId', 'gender').dropDuplicates().replace(['F', 'M'], ['0', '1'], 'gender').select('userId', col('gender').cast('int'))\n",
    "var_7.head(10)"
   ]
  },
  {
   "cell_type": "code",
   "execution_count": 123,
   "metadata": {},
   "outputs": [
    {
     "data": {
      "text/plain": [
       "[Row(userId='100010', y=0),\n",
       " Row(userId='200002', y=0),\n",
       " Row(userId='125', y=1),\n",
       " Row(userId='124', y=0),\n",
       " Row(userId='51', y=1),\n",
       " Row(userId='7', y=0),\n",
       " Row(userId='15', y=0),\n",
       " Row(userId='54', y=1),\n",
       " Row(userId='155', y=0),\n",
       " Row(userId='100014', y=1)]"
      ]
     },
     "execution_count": 123,
     "metadata": {},
     "output_type": "execute_result"
    }
   ],
   "source": [
    "y = spark_json.select('userId', col('user_churn').alias('y')).dropDuplicates()\n",
    "y.head(10)"
   ]
  },
  {
   "cell_type": "code",
   "execution_count": 124,
   "metadata": {},
   "outputs": [
    {
     "name": "stdout",
     "output_type": "stream",
     "text": [
      "+------------------+--------------------+--------------------+------------------+-----------+------------------+------+---+\n",
      "|  ratio_songs_time|     ratio_thumps_up|   ratio_thumps_down|  avg_played_songs|tot_friends|   tot_listen_time|gender|  y|\n",
      "+------------------+--------------------+--------------------+------------------+-----------+------------------+------+---+\n",
      "| 6.847141574652864| 0.04461942257217848|0.013123359580052493|39.285714285714285|          4| 66940.89735000003|     0|  0|\n",
      "| 6.764216985594723| 0.04430379746835443|0.012658227848101266|              64.5|          4| 94008.87593999993|     1|  0|\n",
      "|36.676420241322894| 0.03544041450777202| 0.00849740932642487|145.67857142857142|         74|1012312.0927899999|     0|  0|\n",
      "|126.64574639273998|0.040584415584415584|0.008522727272727272|             211.1|         28| 523275.8428000004|     1|  1|\n",
      "|2.7618166883613084| 0.03482587064676617|0.004975124378109453|21.428571428571427|          1| 38034.08710000002|     1|  0|\n",
      "| 40.30889824286323| 0.03555750658472344|0.006145741878841089|136.71428571428572|         31|477307.60581000015|     1|  0|\n",
      "|31.033386540168586| 0.04742508001163805|0.008437590922315974| 81.17142857142858|         33| 711344.9195400011|     0|  1|\n",
      "| 42.53689982508206| 0.05788423153692615|0.002994011976047...|136.66666666666666|         11|       198779.2919|     0|  0|\n",
      "|3.6434838038819755|0.054838709677419356| 0.00967741935483871|42.833333333333336|          6| 67703.47208000004|     1|  1|\n",
      "| 34.44506948084162|0.041666666666666664|0.007378472222222222|             120.5|         41| 483118.9038399997|     0|  0|\n",
      "| 39.82141512875599| 0.04001861330851559|0.007445323406235459|             179.7|         29| 447464.0146699989|     1|  1|\n",
      "|  6.81243497743963| 0.04716981132075472| 0.01061320754716981|           40.4375|          6|159669.96303999983|     0|  0|\n",
      "|37.057221465788686| 0.03847711624139328|0.009720534629404616|             138.0|         41| 512449.8827599989|     1|  0|\n",
      "| 59.54933057060886| 0.06842818428184282|0.006323396567299007|59.540983606557376|         63| 897406.9802100015|     0|  0|\n",
      "| 4.927488246048316|0.034482758620689655| 0.01567398119122257|              46.0|          7| 57633.17563999999|     1|  1|\n",
      "|59.946042645951565| 0.04274215931168471|0.006106022758812101| 89.05882352941177|         47| 754517.5625700009|     1|  1|\n",
      "|18.789085591611958| 0.05365126676602087|0.006706408345752...|             125.0|         12| 286064.0256399999|     0|  0|\n",
      "| 3.338568814643186|0.030821917808219176|0.010273972602739725| 23.88888888888889|          7| 53062.74659000002|     1|  0|\n",
      "| 63.42972352554979| 0.03899459713413202|0.005872680291284942| 87.14634146341463|         52| 881792.9661300007|     0|  0|\n",
      "| 9.183699101558249|0.030634573304157548|0.015317286652078774|62.833333333333336|         11| 94240.35148000003|     0|  1|\n",
      "+------------------+--------------------+--------------------+------------------+-----------+------------------+------+---+\n",
      "only showing top 20 rows\n",
      "\n"
     ]
    }
   ],
   "source": [
    "data_mat = var_1.join(var_2, 'userId', 'inner').join(var_3, 'userId', 'inner').join(var_4, 'userId', 'inner')\\\n",
    "                .join(var_5, 'userId', 'inner').join(var_6, 'userId', 'inner').join(var_7, 'userId', 'inner')\\\n",
    "                .join(y, 'userId', 'inner').drop('userId')\n",
    "\n",
    "data_mat.show()"
   ]
  },
  {
   "cell_type": "code",
   "execution_count": 125,
   "metadata": {},
   "outputs": [],
   "source": [
    "pd_design_mat = data_mat.toPandas()"
   ]
  },
  {
   "cell_type": "code",
   "execution_count": 126,
   "metadata": {},
   "outputs": [
    {
     "data": {
      "text/plain": [
       "ratio_songs_time     0\n",
       "ratio_thumps_up      0\n",
       "ratio_thumps_down    0\n",
       "avg_played_songs     0\n",
       "tot_friends          0\n",
       "tot_listen_time      0\n",
       "gender               0\n",
       "y                    0\n",
       "dtype: int64"
      ]
     },
     "execution_count": 126,
     "metadata": {},
     "output_type": "execute_result"
    }
   ],
   "source": [
    "pd_design_mat.isna().sum()"
   ]
  },
  {
   "cell_type": "code",
   "execution_count": 127,
   "metadata": {},
   "outputs": [
    {
     "data": {
      "text/plain": [
       "ratio_songs_time     0\n",
       "ratio_thumps_up      0\n",
       "ratio_thumps_down    0\n",
       "avg_played_songs     0\n",
       "tot_friends          0\n",
       "tot_listen_time      0\n",
       "gender               0\n",
       "y                    0\n",
       "dtype: int64"
      ]
     },
     "execution_count": 127,
     "metadata": {},
     "output_type": "execute_result"
    }
   ],
   "source": [
    "pd_design_mat.isnull().sum()"
   ]
  },
  {
   "cell_type": "code",
   "execution_count": 128,
   "metadata": {},
   "outputs": [
    {
     "data": {
      "text/plain": [
       "Index(['ratio_songs_time', 'ratio_thumps_up', 'ratio_thumps_down',\n",
       "       'avg_played_songs', 'tot_friends', 'tot_listen_time', 'gender', 'y'],\n",
       "      dtype='object')"
      ]
     },
     "execution_count": 128,
     "metadata": {},
     "output_type": "execute_result"
    }
   ],
   "source": [
    "pd_design_mat.columns"
   ]
  },
  {
   "cell_type": "markdown",
   "metadata": {},
   "source": [
    "# Modeling\n",
    "Split the full dataset into train, test, and validation sets. Test out several of the machine learning methods you learned. Evaluate the accuracy of the various models, tuning parameters as necessary. Determine your winning model based on test accuracy and report results on the validation set. Since the churned users are a fairly small subset, I suggest using F1 score as the metric to optimize."
   ]
  },
  {
   "cell_type": "code",
   "execution_count": 129,
   "metadata": {},
   "outputs": [
    {
     "name": "stdout",
     "output_type": "stream",
     "text": [
      "+------------------+--------------------+--------------------+------------------+-----------+------------------+------+---+--------------------+\n",
      "|  ratio_songs_time|     ratio_thumps_up|   ratio_thumps_down|  avg_played_songs|tot_friends|   tot_listen_time|gender|  y|        VectFeatures|\n",
      "+------------------+--------------------+--------------------+------------------+-----------+------------------+------+---+--------------------+\n",
      "| 6.847141574652864| 0.04461942257217848|0.013123359580052493|39.285714285714285|          4| 66940.89735000003|     0|  0|[6.84714157465286...|\n",
      "| 6.764216985594723| 0.04430379746835443|0.012658227848101266|              64.5|          4| 94008.87593999993|     1|  0|[6.76421698559472...|\n",
      "|36.676420241322894| 0.03544041450777202| 0.00849740932642487|145.67857142857142|         74|1012312.0927899999|     0|  0|[36.6764202413228...|\n",
      "|126.64574639273998|0.040584415584415584|0.008522727272727272|             211.1|         28| 523275.8428000004|     1|  1|[126.645746392739...|\n",
      "|2.7618166883613084| 0.03482587064676617|0.004975124378109453|21.428571428571427|          1| 38034.08710000002|     1|  0|[2.76181668836130...|\n",
      "| 40.30889824286323| 0.03555750658472344|0.006145741878841089|136.71428571428572|         31|477307.60581000015|     1|  0|[40.3088982428632...|\n",
      "|31.033386540168586| 0.04742508001163805|0.008437590922315974| 81.17142857142858|         33| 711344.9195400011|     0|  1|[31.0333865401685...|\n",
      "| 42.53689982508206| 0.05788423153692615|0.002994011976047...|136.66666666666666|         11|       198779.2919|     0|  0|[42.5368998250820...|\n",
      "|3.6434838038819755|0.054838709677419356| 0.00967741935483871|42.833333333333336|          6| 67703.47208000004|     1|  1|[3.64348380388197...|\n",
      "| 34.44506948084162|0.041666666666666664|0.007378472222222222|             120.5|         41| 483118.9038399997|     0|  0|[34.4450694808416...|\n",
      "| 39.82141512875599| 0.04001861330851559|0.007445323406235459|             179.7|         29| 447464.0146699989|     1|  1|[39.8214151287559...|\n",
      "|  6.81243497743963| 0.04716981132075472| 0.01061320754716981|           40.4375|          6|159669.96303999983|     0|  0|[6.81243497743963...|\n",
      "|37.057221465788686| 0.03847711624139328|0.009720534629404616|             138.0|         41| 512449.8827599989|     1|  0|[37.0572214657886...|\n",
      "| 59.54933057060886| 0.06842818428184282|0.006323396567299007|59.540983606557376|         63| 897406.9802100015|     0|  0|[59.5493305706088...|\n",
      "| 4.927488246048316|0.034482758620689655| 0.01567398119122257|              46.0|          7| 57633.17563999999|     1|  1|[4.92748824604831...|\n",
      "|59.946042645951565| 0.04274215931168471|0.006106022758812101| 89.05882352941177|         47| 754517.5625700009|     1|  1|[59.9460426459515...|\n",
      "|18.789085591611958| 0.05365126676602087|0.006706408345752...|             125.0|         12| 286064.0256399999|     0|  0|[18.7890855916119...|\n",
      "| 3.338568814643186|0.030821917808219176|0.010273972602739725| 23.88888888888889|          7| 53062.74659000002|     1|  0|[3.33856881464318...|\n",
      "| 63.42972352554979| 0.03899459713413202|0.005872680291284942| 87.14634146341463|         52| 881792.9661300007|     0|  0|[63.4297235255497...|\n",
      "| 9.183699101558249|0.030634573304157548|0.015317286652078774|62.833333333333336|         11| 94240.35148000003|     0|  1|[9.18369910155824...|\n",
      "+------------------+--------------------+--------------------+------------------+-----------+------------------+------+---+--------------------+\n",
      "only showing top 20 rows\n",
      "\n"
     ]
    }
   ],
   "source": [
    "# vectorization so that we can fit spark ml models\n",
    "\n",
    "col_names = ['ratio_songs_time', 'ratio_thumps_up', 'ratio_thumps_down', 'avg_played_songs', 'tot_friends', 'gender']\n",
    "vec_assemble = VectorAssembler(inputCols = col_names, outputCol = \"VectFeatures\")\n",
    "data_mat = vec_assemble.transform(data_mat)\n",
    "data_mat.show()"
   ]
  },
  {
   "cell_type": "code",
   "execution_count": 130,
   "metadata": {},
   "outputs": [
    {
     "name": "stdout",
     "output_type": "stream",
     "text": [
      "+-----+--------------------+\n",
      "|label|            features|\n",
      "+-----+--------------------+\n",
      "|    0|[6.84714157465286...|\n",
      "|    0|[6.76421698559472...|\n",
      "|    0|[36.6764202413228...|\n",
      "|    1|[126.645746392739...|\n",
      "|    0|[2.76181668836130...|\n",
      "|    0|[40.3088982428632...|\n",
      "|    1|[31.0333865401685...|\n",
      "|    0|[42.5368998250820...|\n",
      "|    1|[3.64348380388197...|\n",
      "|    0|[34.4450694808416...|\n",
      "|    1|[39.8214151287559...|\n",
      "|    0|[6.81243497743963...|\n",
      "|    0|[37.0572214657886...|\n",
      "|    0|[59.5493305706088...|\n",
      "|    1|[4.92748824604831...|\n",
      "|    1|[59.9460426459515...|\n",
      "|    0|[18.7890855916119...|\n",
      "|    0|[3.33856881464318...|\n",
      "|    0|[63.4297235255497...|\n",
      "|    1|[9.18369910155824...|\n",
      "+-----+--------------------+\n",
      "only showing top 20 rows\n",
      "\n"
     ]
    }
   ],
   "source": [
    "model_data = data_mat.select(data_mat.y.alias(\"label\"), data_mat.VectFeatures.alias(\"features\"))\n",
    "model_data.show()"
   ]
  },
  {
   "cell_type": "code",
   "execution_count": 131,
   "metadata": {},
   "outputs": [],
   "source": [
    "# calculate the correlation for the features.\n",
    "corr_matt = Correlation.corr(model_data, 'features').collect()[0][0]\n",
    "corrmatrix = corr_matt.toArray().tolist()\n",
    "df_corr = spark.createDataFrame(corrmatrix, col_names)\n",
    "pd_corr = df_corr.toPandas()"
   ]
  },
  {
   "cell_type": "code",
   "execution_count": 132,
   "metadata": {},
   "outputs": [],
   "source": [
    "# transform for plotting\n",
    "pd_corr = df_corr.toPandas()"
   ]
  },
  {
   "cell_type": "code",
   "execution_count": 133,
   "metadata": {},
   "outputs": [
    {
     "data": {
      "image/png": "[encoded data removed]",
      "text/plain": [
       "<matplotlib.figure.Figure at 0x7fb21cbae4a8>"
      ]
     },
     "metadata": {
      "needs_background": "light"
     },
     "output_type": "display_data"
    }
   ],
   "source": [
    "# Plot the correlation matrix\n",
    "\n",
    "f = plt.figure(figsize=(9, 9))\n",
    "plt.matshow(pd_corr.corr(), fignum=f.number)\n",
    "plt.xticks(range(pd_corr.shape[1]), pd_corr.columns, fontsize=14, rotation=45)\n",
    "plt.yticks(range(pd_corr.shape[1]), pd_corr.columns, fontsize=14)\n",
    "cb = plt.colorbar()\n",
    "cb.ax.tick_params(labelsize=14)\n",
    "plt.title('Correlation Matrix', fontsize=16);\n"
   ]
  },
  {
   "cell_type": "code",
   "execution_count": 134,
   "metadata": {},
   "outputs": [],
   "source": [
    "# create train and test dataset\n",
    "train, test = model_data.randomSplit([0.75, 0.25], seed = 42)\n",
    "train = train.cache()"
   ]
  },
  {
   "cell_type": "code",
   "execution_count": 135,
   "metadata": {},
   "outputs": [
    {
     "name": "stdout",
     "output_type": "stream",
     "text": [
      "The train set ration of 1 (churn) to 0 (stay) is 0.2773109243697479\n"
     ]
    }
   ],
   "source": [
    "print(\"The train set ration of 1 (churn) to 0 (stay) is\", train.where(train.label == '1').count() / train.where(train.label == '0').count()) "
   ]
  },
  {
   "cell_type": "code",
   "execution_count": 136,
   "metadata": {},
   "outputs": [
    {
     "name": "stdout",
     "output_type": "stream",
     "text": [
      "The test set ration of 1 (churn) to 0 (stay) is 0.3225806451612903\n"
     ]
    }
   ],
   "source": [
    "print(\"The test set ration of 1 (churn) to 0 (stay) is\", test.where(test.label == '1').count() / test.where(test.label == '0').count()) "
   ]
  },
  {
   "cell_type": "markdown",
   "metadata": {},
   "source": [
    "Both, the train and test dataset are moderately balanced. We will fit the models against the F1-score which is relaitvely robust against mild imbalances. Hence no down / up sampling or synthetic minority oversampling is required."
   ]
  },
  {
   "cell_type": "code",
   "execution_count": 137,
   "metadata": {},
   "outputs": [],
   "source": [
    "# Initialize four models\n",
    "clf_LR = LogisticRegression(maxIter=50)\n",
    "clf_DT = DecisionTreeClassifier(seed=7)\n",
    "clf_RF = RandomForestClassifier(seed=7)\n",
    "clf_SVM = LinearSVC() # to account the long computation times"
   ]
  },
  {
   "cell_type": "code",
   "execution_count": 138,
   "metadata": {},
   "outputs": [],
   "source": [
    "# Create the evaluator and parameter grid on which the models are trained on.\n",
    "f1_evaluation = MulticlassClassificationEvaluator(metricName = 'f1')\n",
    "param_grid = ParamGridBuilder().build()"
   ]
  },
  {
   "cell_type": "code",
   "execution_count": 139,
   "metadata": {},
   "outputs": [
    {
     "name": "stdout",
     "output_type": "stream",
     "text": [
      "RandomForestClassifier is training...\n",
      "RandomForestClassifier is predicting...\n",
      "RandomForestClassifier is predicting...\n",
      "RandomForestClassifier is evaluating...\n",
      "Test F1-score:  0.6887340301974448\n",
      "DecisionTreeClassifier is training...\n",
      "DecisionTreeClassifier is predicting...\n",
      "DecisionTreeClassifier is predicting...\n",
      "DecisionTreeClassifier is evaluating...\n",
      "Test F1-score:  0.7145931543349046\n",
      "LogisticRegression is training...\n",
      "LogisticRegression is predicting...\n",
      "LogisticRegression is predicting...\n",
      "LogisticRegression is evaluating...\n",
      "Test F1-score:  0.7520931925737168\n"
     ]
    },
    {
     "data": {
      "text/html": [
       "<div>\n",
       "<style scoped>\n",
       "    .dataframe tbody tr th:only-of-type {\n",
       "        vertical-align: middle;\n",
       "    }\n",
       "\n",
       "    .dataframe tbody tr th {\n",
       "        vertical-align: top;\n",
       "    }\n",
       "\n",
       "    .dataframe thead th {\n",
       "        text-align: right;\n",
       "    }\n",
       "</style>\n",
       "<table border=\"1\" class=\"dataframe\">\n",
       "  <thead>\n",
       "    <tr style=\"text-align: right;\">\n",
       "      <th></th>\n",
       "      <th>RandomForestClassifier</th>\n",
       "      <th>DecisionTreeClassifier</th>\n",
       "      <th>LogisticRegression</th>\n",
       "    </tr>\n",
       "  </thead>\n",
       "  <tbody>\n",
       "    <tr>\n",
       "      <th>f1_test</th>\n",
       "      <td>0.688734</td>\n",
       "      <td>0.714593</td>\n",
       "      <td>0.752093</td>\n",
       "    </tr>\n",
       "    <tr>\n",
       "      <th>pred_time</th>\n",
       "      <td>0.04</td>\n",
       "      <td>0.05</td>\n",
       "      <td>0.05</td>\n",
       "    </tr>\n",
       "    <tr>\n",
       "      <th>train_f1_avg</th>\n",
       "      <td>[0.7313190730837789]</td>\n",
       "      <td>[0.7414597531670701]</td>\n",
       "      <td>[0.7721352647352648]</td>\n",
       "    </tr>\n",
       "    <tr>\n",
       "      <th>train_time</th>\n",
       "      <td>95.88</td>\n",
       "      <td>63.07</td>\n",
       "      <td>149.35</td>\n",
       "    </tr>\n",
       "  </tbody>\n",
       "</table>\n",
       "</div>"
      ],
      "text/plain": [
       "             RandomForestClassifier DecisionTreeClassifier  \\\n",
       "f1_test                    0.688734               0.714593   \n",
       "pred_time                      0.04                   0.05   \n",
       "train_f1_avg   [0.7313190730837789]   [0.7414597531670701]   \n",
       "train_time                    95.88                  63.07   \n",
       "\n",
       "                LogisticRegression  \n",
       "f1_test                   0.752093  \n",
       "pred_time                     0.05  \n",
       "train_f1_avg  [0.7721352647352648]  \n",
       "train_time                  149.35  "
      ]
     },
     "execution_count": 139,
     "metadata": {},
     "output_type": "execute_result"
    }
   ],
   "source": [
    "# collect results on the learners\n",
    "all_results = {}\n",
    "for clf in [clf_RF, clf_DT, clf_LR]:\n",
    "#for clf in [clf_LR, clf_DT, clf_RF, clf_SVM]:\n",
    "\n",
    "    cross_val_model = CrossValidator(estimator = clf, estimatorParamMaps = param_grid, evaluator = f1_evaluation, numFolds = 2)\n",
    "    \n",
    "    model_results = {}\n",
    "    \n",
    "    # get the classifier name\n",
    "    clf_name = clf.__class__.__name__\n",
    "    \n",
    "    \n",
    "    # fit the dataset\n",
    "    print(f'{clf_name} is training...')\n",
    "    start = time.time() \n",
    "    model = cross_val_model.fit(train)\n",
    "    end = time.time() \n",
    "    model_results['train_time'] = round(end-start,2)\n",
    "    \n",
    "    # predict\n",
    "    print(f'{clf_name} is predicting...')\n",
    "    start = time.time() \n",
    "    pred_test = model.transform(test)\n",
    "    end = time.time()\n",
    "    model_results['train_f1_avg'] = model.avgMetrics\n",
    "    \n",
    "    # predict\n",
    "    print(f'{clf_name} is predicting...')\n",
    "    start = time.time() \n",
    "    pred_test = model.transform(test)\n",
    "    end = time.time()\n",
    "    model_results['pred_time'] = round(end-start,2)\n",
    "    \n",
    "    #metrics\n",
    "    print(f'{clf_name} is evaluating...')    \n",
    "    model_results['f1_test'] = f1_evaluation.evaluate(pred_test.select('label','prediction'),{f1_evaluation.metricName: 'f1'})\n",
    "    print('Test F1-score: ',model_results['f1_test'])\n",
    "    all_results[clf_name] = model_results\n",
    "    \n",
    "all_results_df = pd.DataFrame(all_results)\n",
    "# all_results_df.to_csv('baseline.csv')\n",
    "all_results_df"
   ]
  },
  {
   "cell_type": "code",
   "execution_count": 140,
   "metadata": {},
   "outputs": [
    {
     "data": {
      "image/png": "[encoded data removed]",
      "text/plain": [
       "<matplotlib.figure.Figure at 0x7fb219afe5f8>"
      ]
     },
     "metadata": {
      "needs_background": "light"
     },
     "output_type": "display_data"
    }
   ],
   "source": [
    "coefficients = pd.DataFrame({'feature': col_names, 'Strength of linear effect': model.bestModel.coefficients})\n",
    "_ = coefficients.sort_values('Strength of linear effect', ascending=False)[:15].plot(x='feature', y='Strength of linear effect', kind='bar')"
   ]
  },
  {
   "cell_type": "code",
   "execution_count": 141,
   "metadata": {},
   "outputs": [
    {
     "data": {
      "text/html": [
       "<div>\n",
       "<style scoped>\n",
       "    .dataframe tbody tr th:only-of-type {\n",
       "        vertical-align: middle;\n",
       "    }\n",
       "\n",
       "    .dataframe tbody tr th {\n",
       "        vertical-align: top;\n",
       "    }\n",
       "\n",
       "    .dataframe thead th {\n",
       "        text-align: right;\n",
       "    }\n",
       "</style>\n",
       "<table border=\"1\" class=\"dataframe\">\n",
       "  <thead>\n",
       "    <tr style=\"text-align: right;\">\n",
       "      <th></th>\n",
       "      <th>feature</th>\n",
       "      <th>Strength of linear effect</th>\n",
       "    </tr>\n",
       "  </thead>\n",
       "  <tbody>\n",
       "    <tr>\n",
       "      <th>0</th>\n",
       "      <td>ratio_songs_time</td>\n",
       "      <td>0.090461</td>\n",
       "    </tr>\n",
       "    <tr>\n",
       "      <th>1</th>\n",
       "      <td>ratio_thumps_up</td>\n",
       "      <td>-55.286147</td>\n",
       "    </tr>\n",
       "    <tr>\n",
       "      <th>2</th>\n",
       "      <td>ratio_thumps_down</td>\n",
       "      <td>91.046316</td>\n",
       "    </tr>\n",
       "    <tr>\n",
       "      <th>3</th>\n",
       "      <td>avg_played_songs</td>\n",
       "      <td>-0.004898</td>\n",
       "    </tr>\n",
       "    <tr>\n",
       "      <th>4</th>\n",
       "      <td>tot_friends</td>\n",
       "      <td>-0.094134</td>\n",
       "    </tr>\n",
       "    <tr>\n",
       "      <th>5</th>\n",
       "      <td>gender</td>\n",
       "      <td>0.254894</td>\n",
       "    </tr>\n",
       "  </tbody>\n",
       "</table>\n",
       "</div>"
      ],
      "text/plain": [
       "             feature  Strength of linear effect\n",
       "0   ratio_songs_time                   0.090461\n",
       "1    ratio_thumps_up                 -55.286147\n",
       "2  ratio_thumps_down                  91.046316\n",
       "3   avg_played_songs                  -0.004898\n",
       "4        tot_friends                  -0.094134\n",
       "5             gender                   0.254894"
      ]
     },
     "execution_count": 141,
     "metadata": {},
     "output_type": "execute_result"
    }
   ],
   "source": [
    "coefficients"
   ]
  }
 ],
 "metadata": {
  "kernelspec": {
   "display_name": "Python 3",
   "language": "python",
   "name": "python3"
  },
  "language_info": {
   "codemirror_mode": {
    "name": "ipython",
    "version": 3
   },
   "file_extension": ".py",
   "mimetype": "text/x-python",
   "name": "python",
   "nbconvert_exporter": "python",
   "pygments_lexer": "ipython3",
   "version": "3.6.3"
  }
 },
 "nbformat": 4,
 "nbformat_minor": 2
}
